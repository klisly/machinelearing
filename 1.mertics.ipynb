{
 "cells": [
  {
   "cell_type": "code",
   "execution_count": 2,
   "metadata": {},
   "outputs": [],
   "source": [
    "import numpy as np"
   ]
  },
  {
   "cell_type": "code",
   "execution_count": 7,
   "metadata": {},
   "outputs": [],
   "source": [
    "def logloss(y_true, y_pred, eps=1e-15):\n",
    "    import numpy as np\n",
    "\n",
    "    # Prepare numpy array data\n",
    "    y_true = np.array(y_true)\n",
    "    y_pred = np.array(y_pred)\n",
    "    assert (len(y_true) and len(y_true) == len(y_pred))\n",
    "\n",
    "    # Clip y_pred between eps and 1-eps\n",
    "    p = np.clip(y_pred, eps, 1-eps)\n",
    "    print(p)\n",
    "    loss = np.sum(- y_true * np.log(p) - (1 - y_true) * np.log(1-p))\n",
    "\n",
    "    return loss / len(y_true)"
   ]
  },
  {
   "cell_type": "code",
   "execution_count": 8,
   "metadata": {},
   "outputs": [],
   "source": [
    "def unitest():\n",
    "    y_true = [0, 0, 1, 1]\n",
    "    y_pred = [0.1, 0.2, 0.7, 0.99]\n",
    "    print (\"Use self-defined logloss() in binary classification, the result is {}\".format(logloss(y_true, y_pred)))\n",
    "    from sklearn.metrics import log_loss\n",
    "    print (\"Use log_loss() in scikit-learn, the result is {} \".format(log_loss(y_true, y_pred)))"
   ]
  },
  {
   "cell_type": "code",
   "execution_count": 9,
   "metadata": {},
   "outputs": [
    {
     "name": "stdout",
     "output_type": "stream",
     "text": [
      "[0.1  0.2  0.7  0.99]\n",
      "Use self-defined logloss() in binary classification, the result is 0.1738073366910675\n",
      "Use log_loss() in scikit-learn, the result is 0.1738073366910675 \n"
     ]
    }
   ],
   "source": [
    "unitest()"
   ]
  },
  {
   "cell_type": "code",
   "execution_count": null,
   "metadata": {},
   "outputs": [],
   "source": []
  }
 ],
 "metadata": {
  "kernelspec": {
   "display_name": "Python 3",
   "language": "python",
   "name": "python3"
  },
  "language_info": {
   "codemirror_mode": {
    "name": "ipython",
    "version": 3
   },
   "file_extension": ".py",
   "mimetype": "text/x-python",
   "name": "python",
   "nbconvert_exporter": "python",
   "pygments_lexer": "ipython3",
   "version": "3.6.5"
  }
 },
 "nbformat": 4,
 "nbformat_minor": 4
}

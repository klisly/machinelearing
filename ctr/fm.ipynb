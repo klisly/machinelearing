{
 "cells": [
  {
   "cell_type": "code",
   "execution_count": 11,
   "metadata": {},
   "outputs": [
    {
     "name": "stdout",
     "output_type": "stream",
     "text": [
      "[0 0 0 0 0 0 0 0 0 0 0 0 0 0 0 0 0 0 0 1 1 1 0 0 0 0 0 0 0 0 0 0 0 0 0 0 0\n",
      " 1 0 0 0 0 0 0 0 0 1 0 1 1 1 1 1 0 0 1 0 0 1 1 1 1 0 1 0 0 1 1 1 1 0 1 0 0\n",
      " 1 0 1 0 0 1 1 1 0 0 1 0 0 0 1 1 1 0 1 1 0 0 1 1 1 0 0 1 1 1 1 0 1 1 0 1 1\n",
      " 1 1 1 1 1 1 0 0 0 1 0 0 1 1 1 0 0 1 0 1 0 0 1 0 0 1 1 0 1 1 0 1 1 1 1 0 1\n",
      " 1 1 1 1 1 1 1 1 0 1 1 1 1 0 0 1 0 1 1 0 0 1 1 0 0 1 1 1 1 0 1 1 0 0 0 1 0\n",
      " 1 0 1 1 1 0 1 1 0 0 1 0 0 0 0 1 0 0 0 1 0 1 0 1 1 0 1 0 0 0 0 1 1 0 0 1 1\n",
      " 1 0 1 1 1 1 1 0 0 1 1 0 1 1 0 0 1 0 1 1 1 1 0 1 1 1 1 1 0 1 0 0 0 0 0 0 0\n",
      " 0 0 0 0 0 0 0 1 1 1 1 1 1 0 1 0 1 1 0 1 1 0 1 0 0 1 1 1 1 1 1 1 1 1 1 1 1\n",
      " 1 0 1 1 0 1 0 1 1 1 1 1 1 1 1 1 1 1 1 1 1 0 1 1 1 0 1 0 1 1 1 1 0 0 0 1 1\n",
      " 1 1 0 1 0 1 0 1 1 1 0 1 1 1 1 1 1 1 0 0 0 1 1 1 1 1 1 1 1 1 1 1 0 0 1 0 0\n",
      " 0 1 0 0 1 1 1 1 1 0 1 1 1 1 1 0 1 1 1 0 1 1 0 0 1 1 1 1 1 1 0 1 1 1 1 1 1\n",
      " 1 0 1 1 1 1 1 0 1 1 0 1 1 1 1 1 1 1 1 1 1 1 1 0 1 0 0 1 0 1 1 1 1 1 0 1 1\n",
      " 0 1 0 1 1 0 1 0 1 1 1 1 1 1 1 1 0 0 1 1 1 1 1 1 0 1 1 1 1 1 1 1 1 1 1 0 1\n",
      " 1 1 1 1 1 1 0 1 0 1 1 0 1 1 1 1 1 0 0 1 0 1 0 1 1 1 1 1 0 1 1 0 1 0 1 0 0\n",
      " 1 1 1 0 1 1 1 1 1 1 1 1 1 1 1 0 1 0 0 1 1 1 1 1 1 1 1 1 1 1 1 1 1 1 1 1 1\n",
      " 1 1 1 1 1 1 1 0 0 0 0 0 0 1]\n",
      "Model: \"model_1\"\n",
      "_________________________________________________________________\n",
      "Layer (type)                 Output Shape              Param #   \n",
      "=================================================================\n",
      "input_1 (InputLayer)         (None, 30)                0         \n",
      "_________________________________________________________________\n",
      "fm_1 (FM)                    (None, 20)                920       \n",
      "_________________________________________________________________\n",
      "dense_1 (Dense)              (None, 15)                315       \n",
      "_________________________________________________________________\n",
      "dense_2 (Dense)              (None, 1)                 16        \n",
      "=================================================================\n",
      "Total params: 1,251\n",
      "Trainable params: 1,251\n",
      "Non-trainable params: 0\n",
      "_________________________________________________________________\n",
      "Train on 455 samples, validate on 114 samples\n",
      "Epoch 1/10\n",
      "455/455 [==============================] - 1s 2ms/step - loss: 0.2452 - acc: 0.5780 - val_loss: 0.2152 - val_acc: 0.7719\n",
      "Epoch 2/10\n",
      "455/455 [==============================] - 1s 1ms/step - loss: 0.2427 - acc: 0.5912 - val_loss: 0.2099 - val_acc: 0.7719\n",
      "Epoch 3/10\n",
      "455/455 [==============================] - 1s 1ms/step - loss: 0.2424 - acc: 0.5912 - val_loss: 0.2105 - val_acc: 0.7719\n",
      "Epoch 4/10\n",
      "455/455 [==============================] - 1s 1ms/step - loss: 0.2455 - acc: 0.5912 - val_loss: 0.2076 - val_acc: 0.7719\n",
      "Epoch 5/10\n",
      "455/455 [==============================] - 1s 1ms/step - loss: 0.2424 - acc: 0.5912 - val_loss: 0.2095 - val_acc: 0.7719\n",
      "Epoch 6/10\n",
      "455/455 [==============================] - 1s 1ms/step - loss: 0.2429 - acc: 0.5912 - val_loss: 0.2081 - val_acc: 0.7719\n",
      "Epoch 7/10\n",
      "455/455 [==============================] - 1s 1ms/step - loss: 0.2425 - acc: 0.5912 - val_loss: 0.2119 - val_acc: 0.7719\n",
      "Epoch 8/10\n",
      "455/455 [==============================] - 1s 1ms/step - loss: 0.2423 - acc: 0.5912 - val_loss: 0.2030 - val_acc: 0.7719\n",
      "Epoch 9/10\n",
      "455/455 [==============================] - 1s 1ms/step - loss: 0.2428 - acc: 0.5912 - val_loss: 0.2094 - val_acc: 0.7719\n",
      "Epoch 10/10\n",
      "455/455 [==============================] - 1s 1ms/step - loss: 0.2430 - acc: 0.5912 - val_loss: 0.2107 - val_acc: 0.7719\n"
     ]
    },
    {
     "data": {
      "text/plain": [
       "Text(0, 0.5, 'acc')"
      ]
     },
     "execution_count": 11,
     "metadata": {},
     "output_type": "execute_result"
    },
    {
     "data": {
      "image/png": "[encoded data removed]",
      "text/plain": [
       "<Figure size 432x288 with 1 Axes>"
      ]
     },
     "metadata": {
      "needs_background": "light"
     },
     "output_type": "display_data"
    }
   ],
   "source": [
    "import numpy as np\n",
    "import pandas as pd\n",
    "import tensorflow as tf\n",
    "import keras\n",
    "import os\n",
    "\n",
    "import matplotlib.pyplot as plt\n",
    "\n",
    "from keras.layers import Layer,Dense,Dropout,Input\n",
    "from keras import Model,activations\n",
    "from keras.optimizers import Adam\n",
    "from keras import backend as K\n",
    "from keras.layers import Layer\n",
    "from sklearn.datasets import load_breast_cancer\n",
    "\n",
    "class FM(Layer):\n",
    "    def __init__(self, output_dim, latent=10,  activation='relu', **kwargs):\n",
    "        self.latent = latent\n",
    "        self.output_dim = output_dim\n",
    "        self.activation = activations.get(activation)\n",
    "        super(FM, self).__init__(**kwargs)\n",
    "\n",
    "    def build(self, input_shape):\n",
    "        self.b = self.add_weight(name='W0',\n",
    "                                  shape=(self.output_dim,),\n",
    "                                  trainable=True,\n",
    "                                 initializer='zeros')\n",
    "        self.w = self.add_weight(name='W',\n",
    "                                 shape=(input_shape[1], self.output_dim),\n",
    "                                 trainable=True,\n",
    "                                 initializer='random_uniform')\n",
    "        self.v= self.add_weight(name='V',\n",
    "                                 shape=(input_shape[1], self.latent),\n",
    "                                 trainable=True,\n",
    "                                initializer='random_uniform')\n",
    "        super(FM, self).build(input_shape)\n",
    "\n",
    "    def call(self, inputs, **kwargs):\n",
    "        x = inputs\n",
    "        x_square = K.square(x)\n",
    "\n",
    "        xv = K.square(K.dot(x, self.v))\n",
    "        xw = K.dot(x, self.w)\n",
    "\n",
    "        p = 0.5*K.sum(xv-K.dot(x_square, K.square(self.v)), 1)\n",
    "\n",
    "        rp = K.repeat_elements(K.reshape(p, (-1, 1)), self.output_dim, axis=-1)\n",
    "\n",
    "        f = xw + rp + self.b\n",
    "\n",
    "        output = K.reshape(f, (-1, self.output_dim))\n",
    "\n",
    "        return output\n",
    "\n",
    "    def compute_output_shape(self, input_shape):\n",
    "        assert input_shape and len(input_shape)==2\n",
    "        return input_shape[0],self.output_dim\n",
    "\n",
    "\n",
    "data = load_breast_cancer()[\"data\"]\n",
    "target = load_breast_cancer()[\"target\"]\n",
    "\n",
    "K.clear_session()\n",
    "print(target)\n",
    "inputs = Input(shape=(30,))\n",
    "out = FM(20)(inputs)\n",
    "out = Dense(15, activation='sigmoid')(out)\n",
    "out = Dense(1, activation='sigmoid')(out)\n",
    "\n",
    "model=Model(inputs=inputs, outputs=out)\n",
    "model.compile(loss='mse',\n",
    "              optimizer='adam',\n",
    "              metrics=['acc'])\n",
    "model.summary()\n",
    "\n",
    "h=model.fit(data, target, batch_size=1, epochs=10, validation_split=0.2)\n",
    "\n",
    "#%%\n",
    "\n",
    "plt.plot(h.history['acc'],label='acc')\n",
    "plt.plot(h.history['val_acc'],label='val_acc')\n",
    "plt.xlabel('epoch')\n",
    "plt.ylabel('acc')"
   ]
  },
  {
   "cell_type": "code",
   "execution_count": 3,
   "metadata": {},
   "outputs": [],
   "source": [
    "from sklearn.datasets import load_breast_cancer\n",
    "from sklearn.model_selection import train_test_split\n",
    "from sklearn.preprocessing import MinMaxScaler\n",
    "from sklearn.decomposition import PCA\n",
    "cancer = load_breast_cancer()\n",
    "#print('breast_cancer数据集的长度为：',len(cancer))\n",
    "#print('breast_cancer数据集的类型为：',type(cancer))\n",
    "#print(cancer)\n",
    "cancer_data = cancer['data']\n",
    "cancer_target = cancer['target']\n",
    "cancer_names = cancer['feature_names']\n",
    "cancer_desc = cancer['DESCR']\n",
    "#分为训练集与测试集\n",
    "cancer_data_train,cancer_data_test = train_test_split(cancer_data,test_size=0.2,random_state=42)#训练集\n",
    "cancer_target_train,cancer_target_test = train_test_split(cancer_target,test_size=0.2,random_state=42)#测试集\n",
    "#使用sklearn转换器进行数据预处理//离差标准化\n",
    "Scaler = MinMaxScaler().fit(cancer_data_train)#生成规则\n",
    "cancer_trainScaler = Scaler.transform(cancer_data_train)\n",
    "cancer_testScaler = Scaler.transform(cancer_data_test)#此处测试集使用了训练集规则，会有数据结果超过[0,1].\n",
    "#pca降维\n",
    "pca_model = PCA(n_components=10).fit(cancer_trainScaler)\n",
    "cancer_trainPCA = pca_model.transform(cancer_trainScaler)\n",
    "cancer_testPCA = pca_model.transform(cancer_testScaler)\n"
   ]
  },
  {
   "cell_type": "code",
   "execution_count": 5,
   "metadata": {},
   "outputs": [
    {
     "name": "stdout",
     "output_type": "stream",
     "text": [
      "[[ 4.76310429e-01  1.20959918e+00  2.76388391e-01 ... -2.24917512e-01\n",
      "   1.65424732e-01  4.90384948e-01]\n",
      " [ 1.59216067e+00  1.88320399e-01 -2.76225968e-01 ...  1.68842391e-01\n",
      "  -5.54314999e-02 -2.17728173e-01]\n",
      " [-4.91209730e-01  4.44643866e-01  4.85148712e-01 ...  8.59736161e-02\n",
      "   4.83402841e-02  3.82451168e-02]\n",
      " ...\n",
      " [-6.67778658e-01 -4.81950419e-01 -4.50272062e-03 ...  3.13339929e-02\n",
      "   6.14829589e-04 -2.14580559e-02]\n",
      " [ 2.32454645e-01  1.20410495e-01 -3.91574032e-01 ... -4.14703763e-02\n",
      "   7.34893327e-02  1.57853853e-03]\n",
      " [-5.12962542e-01 -2.02482923e-01 -9.15557107e-02 ...  9.48128918e-02\n",
      "   4.11997593e-02  5.67193697e-02]]\n"
     ]
    }
   ],
   "source": [
    "print(cancer_trainPCA)"
   ]
  },
  {
   "cell_type": "code",
   "execution_count": 6,
   "metadata": {},
   "outputs": [],
   "source": [
    "X = cancer.data\n",
    "y = cancer.target"
   ]
  },
  {
   "cell_type": "code",
   "execution_count": 7,
   "metadata": {},
   "outputs": [],
   "source": [
    "from sklearn.model_selection import train_test_split\n",
    "\n",
    "X_train, X_test, y_train, y_test = train_test_split(X, y, test_size=0.2)"
   ]
  },
  {
   "cell_type": "code",
   "execution_count": 9,
   "metadata": {},
   "outputs": [
    {
     "name": "stdout",
     "output_type": "stream",
     "text": [
      "train score: 0.949451; test score: 0.982456\n"
     ]
    },
    {
     "name": "stderr",
     "output_type": "stream",
     "text": [
      "/Library/Frameworks/Python.framework/Versions/3.6/lib/python3.6/site-packages/sklearn/linear_model/_logistic.py:939: ConvergenceWarning: lbfgs failed to converge (status=1):\n",
      "STOP: TOTAL NO. of ITERATIONS REACHED LIMIT.\n",
      "\n",
      "Increase the number of iterations (max_iter) or scale the data as shown in:\n",
      "    https://scikit-learn.org/stable/modules/preprocessing.html.\n",
      "Please also refer to the documentation for alternative solver options:\n",
      "    https://scikit-learn.org/stable/modules/linear_model.html#logistic-regression\n",
      "  extra_warning_msg=_LOGISTIC_SOLVER_CONVERGENCE_MSG)\n"
     ]
    }
   ],
   "source": [
    "from sklearn.linear_model import LogisticRegression\n",
    "\n",
    "model = LogisticRegression()\n",
    "model.fit(X_train, y_train)\n",
    "\n",
    "train_score = model.score(X_train, y_train)\n",
    "test_score = model.score(X_test, y_test)\n",
    "print('train score: {train_score:.6f}; test score: {test_score:.6f}'.format(\n",
    "    train_score=train_score, test_score=test_score))"
   ]
  },
  {
   "cell_type": "code",
   "execution_count": null,
   "metadata": {},
   "outputs": [],
   "source": []
  }
 ],
 "metadata": {
  "kernelspec": {
   "display_name": "Python 3",
   "language": "python",
   "name": "python3"
  },
  "language_info": {
   "codemirror_mode": {
    "name": "ipython",
    "version": 3
   },
   "file_extension": ".py",
   "mimetype": "text/x-python",
   "name": "python",
   "nbconvert_exporter": "python",
   "pygments_lexer": "ipython3",
   "version": "3.6.5"
  }
 },
 "nbformat": 4,
 "nbformat_minor": 4
}
